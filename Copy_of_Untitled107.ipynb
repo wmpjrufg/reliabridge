{
 "cells": [
  {
   "cell_type": "code",
   "execution_count": 1,
   "metadata": {
    "id": "zpXt7Gkm2y0p"
   },
   "outputs": [],
   "source": [
    "# !pip install parepy-toolbox\n",
    "# Libraries\n",
    "import pandas as pd\n",
    "pd.set_option('display.max_columns', None)\n",
    "from parepy_toolbox import sampling_algorithm_structural_analysis"
   ]
  },
  {
   "cell_type": "code",
   "execution_count": 2,
   "metadata": {
    "colab": {
     "base_uri": "https://localhost:8080/"
    },
    "id": "kWLdB5sR2wz2",
    "outputId": "a7b4cc0b-3dc5-4f50-b975-2bba5c620886"
   },
   "outputs": [
    {
     "name": "stdout",
     "output_type": "stream",
     "text": [
      "15:21:27 - Checking inputs completed!\n",
      "15:21:27 - Started State Limit Function evaluation (g)...\n",
      "15:21:35 - Finished State Limit Function evaluation (g) in 8.32e+00 seconds!\n",
      "15:21:35 - Started evaluation beta reliability index and failure probability...\n",
      "15:21:35 - Finished evaluation beta reliability index and failure probability in 2.88e-02 seconds!\n",
      "15:21:35 - Voilà!!!!....simulation results are saved in nowak_collins_example_MCS_20241122-152135.txt\n"
     ]
    }
   ],
   "source": [
    "# Libraries\n",
    "import pandas as pd\n",
    "pd.set_option('display.max_columns', None)\n",
    "\n",
    "from parepy_toolbox import sampling_algorithm_structural_analysis\n",
    "from obj_function import nowak_collins_example\n",
    "\n",
    "df = pd.read_excel('teste.xlsx')\n",
    "f_c = 25000\n",
    "p_load = 50\n",
    "l = 20\n",
    "bw = 20\n",
    "h = 100\n",
    "# Dataset\n",
    "f = {'type': 'normal', 'loc': f_c, 'scale': 0.12*f_c, 'seed': None}\n",
    "p = {'type': 'gumbel max', 'loc': 0.93 * p_load, 'scale': 1.12, 'seed': None}\n",
    "a_s = {'type': 'normal', 'loc': 1, 'scale': 1 * 0.5/100, 'seed': None}\n",
    "var = [f, p, a_s]\n",
    "\n",
    "# PAREpy setup\n",
    "setup = {\n",
    "        'number of samples': 10000, \n",
    "        'number of dimensions': len(var), \n",
    "        'numerical model': {'model sampling': 'mcs'}, \n",
    "        'variables settings': var, \n",
    "        'number of state limit functions or constraints': len(df), \n",
    "        'none variable': {'dataset': df, 'l (cm)': l, 'bw (cm)': bw, 'h (cm)': h},\n",
    "        'objective function': nowak_collins_example,\n",
    "        'name simulation': 'nowak_collins_example',\n",
    "        }\n",
    "\n",
    "\n",
    "# Call algorithm\n",
    "results, pf, beta = sampling_algorithm_structural_analysis(setup)"
   ]
  },
  {
   "cell_type": "code",
   "execution_count": 3,
   "metadata": {
    "colab": {
     "base_uri": "https://localhost:8080/",
     "height": 89
    },
    "id": "EdB3id743Ki4",
    "outputId": "ca2aa75b-308f-4445-d016-1bb8435f609d"
   },
   "outputs": [
    {
     "data": {
      "text/html": [
       "<div>\n",
       "<style scoped>\n",
       "    .dataframe tbody tr th:only-of-type {\n",
       "        vertical-align: middle;\n",
       "    }\n",
       "\n",
       "    .dataframe tbody tr th {\n",
       "        vertical-align: top;\n",
       "    }\n",
       "\n",
       "    .dataframe thead th {\n",
       "        text-align: right;\n",
       "    }\n",
       "</style>\n",
       "<table border=\"1\" class=\"dataframe\">\n",
       "  <thead>\n",
       "    <tr style=\"text-align: right;\">\n",
       "      <th></th>\n",
       "      <th>I_0</th>\n",
       "      <th>I_1</th>\n",
       "      <th>I_2</th>\n",
       "    </tr>\n",
       "  </thead>\n",
       "  <tbody>\n",
       "    <tr>\n",
       "      <th>0</th>\n",
       "      <td>21.589144</td>\n",
       "      <td>21.589144</td>\n",
       "      <td>21.589144</td>\n",
       "    </tr>\n",
       "  </tbody>\n",
       "</table>\n",
       "</div>"
      ],
      "text/plain": [
       "         I_0        I_1        I_2\n",
       "0  21.589144  21.589144  21.589144"
      ]
     },
     "execution_count": 3,
     "metadata": {},
     "output_type": "execute_result"
    }
   ],
   "source": [
    "beta"
   ]
  },
  {
   "cell_type": "code",
   "execution_count": 4,
   "metadata": {},
   "outputs": [
    {
     "name": "stdout",
     "output_type": "stream",
     "text": [
      "f_ck: 25000 \n",
      "w: 50 \n",
      "pho_a_s: 1 \n",
      "df:    x (cm)  number of bars  diameter (mm)\n",
      "0       1               1             20\n",
      "1       2               2             20\n",
      "2       3               3             20 \n",
      "l: 0.2 \n",
      "b_w: 0.2 \n",
      "h: 1.0 \n",
      "d: 0.9\n",
      "f_ck: <class 'int'> \n",
      "w: <class 'int'> \n",
      "pho_a_s: <class 'int'> \n",
      "df: <class 'pandas.core.frame.DataFrame'> \n",
      "l: <class 'float'> \n",
      "b_w: <class 'float'> \n",
      "h: <class 'float'> \n",
      "d: <class 'float'>\n",
      "m_w: 0.25000000000000006 \n",
      "<class 'float'>\n"
     ]
    },
    {
     "data": {
      "text/plain": [
       "([np.float64(138.4688445876909),\n",
       "  np.float64(271.13203952768214),\n",
       "  np.float64(397.9895848199738)],\n",
       " [0.25000000000000006, 0.25000000000000006, 0.25000000000000006],\n",
       " [np.float64(138.2188445876909),\n",
       "  np.float64(270.88203952768214),\n",
       "  np.float64(397.7395848199738)])"
      ]
     },
     "execution_count": 4,
     "metadata": {},
     "output_type": "execute_result"
    }
   ],
   "source": [
    "from obj_function import nowak_collins_example\n",
    "x = [25000, 50, 1]\n",
    "nowak_collins_example(x, {'dataset': df, 'l (cm)': l, 'bw (cm)': bw, 'h (cm)': h})"
   ]
  }
 ],
 "metadata": {
  "colab": {
   "provenance": []
  },
  "kernelspec": {
   "display_name": "ambiente_realiabrige",
   "language": "python",
   "name": "python3"
  },
  "language_info": {
   "codemirror_mode": {
    "name": "ipython",
    "version": 3
   },
   "file_extension": ".py",
   "mimetype": "text/x-python",
   "name": "python",
   "nbconvert_exporter": "python",
   "pygments_lexer": "ipython3",
   "version": "3.12.7"
  }
 },
 "nbformat": 4,
 "nbformat_minor": 0
}
