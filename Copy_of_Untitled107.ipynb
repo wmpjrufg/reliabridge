{
 "cells": [
  {
   "cell_type": "code",
   "execution_count": 1,
   "metadata": {
    "id": "zpXt7Gkm2y0p"
   },
   "outputs": [],
   "source": [
    "# !pip install parepy-toolbox\n",
    "# Libraries\n",
    "import pandas as pd\n",
    "pd.set_option('display.max_columns', None)\n",
    "from parepy_toolbox import sampling_algorithm_structural_analysis\n",
    "from obj_function import pontes"
   ]
  },
  {
   "cell_type": "code",
   "execution_count": 2,
   "metadata": {
    "colab": {
     "base_uri": "https://localhost:8080/"
    },
    "id": "kWLdB5sR2wz2",
    "outputId": "a7b4cc0b-3dc5-4f50-b975-2bba5c620886"
   },
   "outputs": [
    {
     "name": "stdout",
     "output_type": "stream",
     "text": [
      "17:21:58 - Checking inputs completed!\n",
      "17:21:58 - Started State Limit Function evaluation (g)...\n",
      "17:22:01 - Finished State Limit Function evaluation (g) in 3.09e+00 seconds!\n",
      "17:22:01 - Started evaluation beta reliability index and failure probability...\n",
      "17:22:01 - Finished evaluation beta reliability index and failure probability in 3.69e-02 seconds!\n",
      "17:22:01 - Voilà!!!!....simulation results are saved in nowak_collins_example_MCS_20241122-172201.txt\n"
     ]
    }
   ],
   "source": [
    "df = pd.read_excel('teste.xlsx')\n",
    "f_c = 25000\n",
    "p_load = 50\n",
    "l = 20\n",
    "bw = 20\n",
    "h = 100\n",
    "# Dataset\n",
    "f = {'type': 'normal', 'loc': f_c, 'scale': 0.12*f_c, 'seed': None}\n",
    "p = {'type': 'gumbel max', 'loc': 0.93 * p_load, 'scale': 1.12, 'seed': None}\n",
    "a_s = {'type': 'normal', 'loc': 1, 'scale': 1 * 0.5/100, 'seed': None}\n",
    "var = [f, p, a_s]\n",
    "\n",
    "# PAREpy setup\n",
    "setup = {\n",
    "        'number of samples': 10000, \n",
    "        'number of dimensions': len(var), \n",
    "        'numerical model': {'model sampling': 'mcs'}, \n",
    "        'variables settings': var, \n",
    "        'number of state limit functions or constraints': len(df), \n",
    "        'none variable': {'dataset': df, 'l (cm)': l, 'bw (cm)': bw, 'h (cm)': h},\n",
    "        'objective function': pontes,\n",
    "        'name simulation': 'nowak_collins_example',\n",
    "        }\n",
    "\n",
    "\n",
    "# Call algorithm\n",
    "results, pf, beta = sampling_algorithm_structural_analysis(setup)"
   ]
  },
  {
   "cell_type": "code",
   "execution_count": 3,
   "metadata": {
    "colab": {
     "base_uri": "https://localhost:8080/",
     "height": 89
    },
    "id": "EdB3id743Ki4",
    "outputId": "ca2aa75b-308f-4445-d016-1bb8435f609d"
   },
   "outputs": [
    {
     "data": {
      "text/html": [
       "<div>\n",
       "<style scoped>\n",
       "    .dataframe tbody tr th:only-of-type {\n",
       "        vertical-align: middle;\n",
       "    }\n",
       "\n",
       "    .dataframe tbody tr th {\n",
       "        vertical-align: top;\n",
       "    }\n",
       "\n",
       "    .dataframe thead th {\n",
       "        text-align: right;\n",
       "    }\n",
       "</style>\n",
       "<table border=\"1\" class=\"dataframe\">\n",
       "  <thead>\n",
       "    <tr style=\"text-align: right;\">\n",
       "      <th></th>\n",
       "      <th>I_0</th>\n",
       "      <th>I_1</th>\n",
       "      <th>I_2</th>\n",
       "    </tr>\n",
       "  </thead>\n",
       "  <tbody>\n",
       "    <tr>\n",
       "      <th>0</th>\n",
       "      <td>21.589144</td>\n",
       "      <td>21.589144</td>\n",
       "      <td>21.589144</td>\n",
       "    </tr>\n",
       "  </tbody>\n",
       "</table>\n",
       "</div>"
      ],
      "text/plain": [
       "         I_0        I_1        I_2\n",
       "0  21.589144  21.589144  21.589144"
      ]
     },
     "execution_count": 3,
     "metadata": {},
     "output_type": "execute_result"
    }
   ],
   "source": [
    "beta"
   ]
  },
  {
   "cell_type": "code",
   "execution_count": 4,
   "metadata": {},
   "outputs": [
    {
     "ename": "ImportError",
     "evalue": "cannot import name 'nowak_collins_example' from 'obj_function' (c:\\Users\\rezio\\OneDrive\\Documentos\\git codes\\reliabridge\\obj_function.py)",
     "output_type": "error",
     "traceback": [
      "\u001b[1;31m---------------------------------------------------------------------------\u001b[0m",
      "\u001b[1;31mImportError\u001b[0m                               Traceback (most recent call last)",
      "Cell \u001b[1;32mIn[4], line 1\u001b[0m\n\u001b[1;32m----> 1\u001b[0m \u001b[38;5;28;01mfrom\u001b[39;00m \u001b[38;5;21;01mobj_function\u001b[39;00m \u001b[38;5;28;01mimport\u001b[39;00m nowak_collins_example\n\u001b[0;32m      2\u001b[0m x \u001b[38;5;241m=\u001b[39m [\u001b[38;5;241m25000\u001b[39m, \u001b[38;5;241m50\u001b[39m, \u001b[38;5;241m1\u001b[39m]\n\u001b[0;32m      3\u001b[0m pontes(x, {\u001b[38;5;124m'\u001b[39m\u001b[38;5;124mdataset\u001b[39m\u001b[38;5;124m'\u001b[39m: df, \u001b[38;5;124m'\u001b[39m\u001b[38;5;124ml (cm)\u001b[39m\u001b[38;5;124m'\u001b[39m: l, \u001b[38;5;124m'\u001b[39m\u001b[38;5;124mbw (cm)\u001b[39m\u001b[38;5;124m'\u001b[39m: bw, \u001b[38;5;124m'\u001b[39m\u001b[38;5;124mh (cm)\u001b[39m\u001b[38;5;124m'\u001b[39m: h})\n",
      "\u001b[1;31mImportError\u001b[0m: cannot import name 'nowak_collins_example' from 'obj_function' (c:\\Users\\rezio\\OneDrive\\Documentos\\git codes\\reliabridge\\obj_function.py)"
     ]
    }
   ],
   "source": [
    "from obj_function import nowak_collins_example\n",
    "x = [25000, 50, 1]\n",
    "pontes(x, {'dataset': df, 'l (cm)': l, 'bw (cm)': bw, 'h (cm)': h})"
   ]
  }
 ],
 "metadata": {
  "colab": {
   "provenance": []
  },
  "kernelspec": {
   "display_name": "ambiente_reliabridge",
   "language": "python",
   "name": "python3"
  },
  "language_info": {
   "codemirror_mode": {
    "name": "ipython",
    "version": 3
   },
   "file_extension": ".py",
   "mimetype": "text/x-python",
   "name": "python",
   "nbconvert_exporter": "python",
   "pygments_lexer": "ipython3",
   "version": "3.12.7"
  }
 },
 "nbformat": 4,
 "nbformat_minor": 0
}
